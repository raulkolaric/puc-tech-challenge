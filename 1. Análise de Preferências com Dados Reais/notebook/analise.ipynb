{
 "cells": [
  {
   "cell_type": "markdown",
   "id": "b712291d-c88b-43a5-8276-cc2290d29b97",
   "metadata": {},
   "source": [
    "\n",
    "# Análise de Preferências de Estudantes\n",
    "Este notebook realiza uma análise exploratória de dados sobre as preferências de estudantes, com base em um conjunto de dados fornecido. O processo inclui o carregamento dos dados, inspeção inicial, limpeza e preparação, seguido pela visualização de diversos insights sobre as preferências dos alunos e outras características relevantes.\n",
    "\n"
   ]
  },
  {
   "cell_type": "markdown",
   "id": "3839ffc5-e04b-4b6b-b729-4e52e4fdbe71",
   "metadata": {},
   "source": [
    "\n",
    "## 1. Importação de Bibliotecas\n",
    "Importação das bibliotecas necessárias para manipulação de dados `(pandas)` e visualização `(matplotlib.pyplot e seaborn)`.\n",
    "\n"
   ]
  },
  {
   "cell_type": "code",
   "execution_count": 1,
   "id": "a47198da-a294-4f57-ad19-b51c441b8e60",
   "metadata": {},
   "outputs": [
    {
     "ename": "ModuleNotFoundError",
     "evalue": "No module named 'pandas'",
     "output_type": "error",
     "traceback": [
      "\u001b[31m---------------------------------------------------------------------------\u001b[39m",
      "\u001b[31mModuleNotFoundError\u001b[39m                       Traceback (most recent call last)",
      "\u001b[36mCell\u001b[39m\u001b[36m \u001b[39m\u001b[32mIn[1]\u001b[39m\u001b[32m, line 1\u001b[39m\n\u001b[32m----> \u001b[39m\u001b[32m1\u001b[39m \u001b[38;5;28;01mimport\u001b[39;00m\u001b[38;5;250m \u001b[39m\u001b[34;01mpandas\u001b[39;00m\u001b[38;5;250m \u001b[39m\u001b[38;5;28;01mas\u001b[39;00m\u001b[38;5;250m \u001b[39m\u001b[34;01mpd\u001b[39;00m\n\u001b[32m      2\u001b[39m \u001b[38;5;28;01mimport\u001b[39;00m\u001b[38;5;250m \u001b[39m\u001b[34;01mmatplotlib\u001b[39;00m\u001b[34;01m.\u001b[39;00m\u001b[34;01mpyplot\u001b[39;00m\u001b[38;5;250m \u001b[39m\u001b[38;5;28;01mas\u001b[39;00m\u001b[38;5;250m \u001b[39m\u001b[34;01mplt\u001b[39;00m\n\u001b[32m      3\u001b[39m \u001b[38;5;28;01mimport\u001b[39;00m\u001b[38;5;250m \u001b[39m\u001b[34;01mseaborn\u001b[39;00m\u001b[38;5;250m \u001b[39m\u001b[38;5;28;01mas\u001b[39;00m\u001b[38;5;250m \u001b[39m\u001b[34;01msns\u001b[39;00m\n",
      "\u001b[31mModuleNotFoundError\u001b[39m: No module named 'pandas'"
     ]
    }
   ],
   "source": [
    "import pandas as pd\n",
    "import matplotlib.pyplot as plt\n",
    "import seaborn as sns"
   ]
  },
  {
   "cell_type": "markdown",
   "id": "93b8b0fb-a8e1-46ca-abed-7f96a1877314",
   "metadata": {},
   "source": [
    "## 2. Carregamento dos Dados\n",
    "Carregamento do conjunto de dados `student_preferences_extended.csv` a partir de uma URL pública no GitHub.\n",
    "\n"
   ]
  },
  {
   "cell_type": "code",
   "execution_count": null,
   "id": "dc823ad7-9c85-48db-a41a-6df42268c2f4",
   "metadata": {},
   "outputs": [],
   "source": [
    "url = \"https://raw.githubusercontent.com/puc-tech/challenge/refs/heads/main/student_preferences_extended.csv\"\n",
    "df = pd.read_csv(url)"
   ]
  },
  {
   "cell_type": "markdown",
   "id": "95dac133-a0e0-40ed-bca8-4f955b8696fc",
   "metadata": {},
   "source": [
    "## 3. Inspeção Inicial dos Dados\n",
    "Nesta etapa, realizamos uma verificação inicial do DataFrame para entender sua estrutura, as primeiras linhas, informações gerais sobre os tipos de dados e a contagem de valores ausentes por coluna. Também obtemos estatísticas descritivas.\n",
    "\n"
   ]
  },
  {
   "cell_type": "code",
   "execution_count": null,
   "id": "1553619e-88ce-43e7-9f4e-c816ae10b1aa",
   "metadata": {},
   "outputs": [],
   "source": [
    "print(\"--- Inspeção Inicial dos Dados ---\")\n",
    "print(\"\\nPrimeiras 5 linhas do DataFrame:\")\n",
    "print(df.head())\n",
    "\n",
    "print(\"\\nInformações gerais do DataFrame:\")\n",
    "df.info()\n",
    "\n",
    "print(\"\\nEstatísticas descritivas (incluindo colunas categóricas):\")\n",
    "print(df.describe(include='all'))\n",
    "\n",
    "print(\"\\nContagem de valores ausentes por coluna:\")\n",
    "print(df.isnull().sum())"
   ]
  },
  {
   "cell_type": "markdown",
   "id": "5f0b5826-6013-4e71-a2ae-74dbdbfccf55",
   "metadata": {},
   "source": [
    "## 4. Limpeza e Preparação dos Dados\n",
    "Esta seção foca na limpeza e preparação do `DataFrame` para análise. As etapas incluem:\n",
    "\n",
    " - Remoção de colunas consideradas metadados ou que exigiriam processamento de linguagem natural complexo para esta análise (`tempo_resposta`, `comentario`).\n",
    " - Remoção de linhas com valores ausentes em colunas chave para a análise de preferências (`linguagem_preferida`, `horario_estudo`, `formato_conteudo_principal`).\n",
    " - Preenchimento de valores ausentes em colunas numéricas com a mediana.\n",
    " - Preenchimento de valores ausentes em colunas categóricas com \"Não Informado\" ou a moda.\n",
    " - Tratamento e tentativa de conversão de colunas para o tipo booleano.\n"
   ]
  },
  {
   "cell_type": "code",
   "execution_count": null,
   "id": "8cf74f86-687e-484e-8624-9eb4f8f64cd1",
   "metadata": {},
   "outputs": [],
   "source": [
    "print(\"\\n--- Limpeza e Preparação dos Dados ---\")\n",
    "\n",
    "# Remover colunas que geralmente não são usadas diretamente em análises quantitativas de preferência agregada\n",
    "# ou são metadados.\n",
    "cols_to_drop_initial = ['tempo_resposta', 'comentario']\n",
    "df_cleaned = df.drop(columns=[col for col in cols_to_drop_initial if col in df.columns])\n",
    "\n",
    "# Para as colunas chave das análises de preferência solicitadas,\n",
    "# vamos remover linhas onde esses dados estão ausentes para garantir a precisão dessas análises específicas.\n",
    "key_preference_cols = ['linguagem_preferida', 'horario_estudo', 'formato_conteudo_principal']\n",
    "df_cleaned.dropna(subset=key_preference_cols, inplace=True)\n",
    "print(f\"\\nShape do DataFrame após remover NaNs das colunas chave de preferência: {df_cleaned.shape}\")\n",
    "\n",
    "# Para outras colunas numéricas que podem ser usadas em gráficos,\n",
    "# podemos preencher NaNs com a média ou mediana.\n",
    "numeric_cols_to_fill = ['horas_estudo_dia', 'media_geral', 'satisfacao_curso', 'faltas_percentual', 'idade', 'semestre']\n",
    "for col in numeric_cols_to_fill:\n",
    "    if col in df_cleaned.columns:\n",
    "        df_cleaned[col].fillna(df_cleaned[col].median(), inplace=True) # Usando mediana por ser menos sensível a outliers\n",
    "\n",
    "# Para outras colunas categóricas, podemos preencher com 'Não Informado' ou a moda.\n",
    "categorical_cols_to_fill = ['framework_preferido', 'formato_conteudo_secundario',\n",
    "                              'ambiente_desenvolvimento', 'sistema_operacional', 'area_interesse']\n",
    "for col in categorical_cols_to_fill:\n",
    "    if col in df_cleaned.columns:\n",
    "        df_cleaned[col].fillna('Não Informado', inplace=True)\n",
    "\n",
    "# Booleanos: preencher com False (ou a moda) se fizer sentido contextual.\n",
    "boolean_cols = ['estuda_em_grupo', 'usa_biblioteca', 'participa_monitoria', 'busca_estagio', 'prefere_backend', 'interesse_pesquisa']\n",
    "for col in boolean_cols:\n",
    "    if col in df_cleaned.columns:\n",
    "        if df_cleaned[col].isnull().any():\n",
    "            df_cleaned[col].fillna(df_cleaned[col].mode()[0], inplace=True) # Preenche com a moda\n",
    "        # Tentativa de converter para tipo booleano de forma segura\n",
    "        try:\n",
    "            if not pd.api.types.is_bool_dtype(df_cleaned[col]):\n",
    "                if df_cleaned[col].dtype == 'object':\n",
    "                    map_dict = {'True': True, 'False': False, True: True, False: False, 'Sim': True, 'Não': False} # Expandido\n",
    "                    # Aplicar o mapa apenas para valores que existem no mapa, outros podem virar a moda ou False\n",
    "                    default_bool_value = False # Ou df_cleaned[col].mode()[0] se quiser a moda como padrão\n",
    "                    df_cleaned[col] = df_cleaned[col].map(lambda x: map_dict.get(x, map_dict.get(str(x), default_bool_value))).astype(bool)\n",
    "                else: # Se for numérico 0/1 ou outros\n",
    "                    df_cleaned[col] = df_cleaned[col].astype(bool)\n",
    "        except Exception as e:\n",
    "            print(f\"Não foi possível converter a coluna {col} para booleano diretamente: {e}. Verifique os valores.\")\n",
    "\n",
    "\n",
    "print(\"\\nContagem de valores ausentes após tratamento geral:\")\n",
    "print(df_cleaned.isnull().sum())\n",
    "\n",
    "print(\"\\nPrimeiras 5 linhas do DataFrame limpo e preparado:\")\n",
    "print(df_cleaned.head())\n",
    "\n",
    "print(\"\\nInformações gerais do DataFrame limpo:\")\n",
    "df_cleaned.info() # Para verificar os tipos de dados após a limpeza"
   ]
  },
  {
   "cell_type": "markdown",
   "id": "6ae742c0-ad98-42ea-91f4-29fbe606597d",
   "metadata": {},
   "source": [
    "## 5. Configurações de Visualização\n",
    "Definição de configurações globais para os gráficos que serão gerados, utilizando `seaborn` para o estilo e `matplotlib.pyplot` para o tamanho padrão das figuras e ajuste automático de layout."
   ]
  },
  {
   "cell_type": "code",
   "execution_count": null,
   "id": "8eaa0ec0-d909-4319-86ea-317c4394d4c8",
   "metadata": {},
   "outputs": [],
   "source": [
    "sns.set_style(\"whitegrid\")\n",
    "plt.rcParams['figure.figsize'] = (12, 7)\n",
    "# plt.rcParams['figure.autolayout'] = True # Causa UserWarning com tight_layout, pode ser removido se usar tight_layout()"
   ]
  },
  {
   "cell_type": "markdown",
   "id": "8c6f528b-c5db-4efd-98d8-813204b2152f",
   "metadata": {},
   "source": [
    "_Nota: `figure.autolayout` = True pode, às vezes, entrar em conflito ou ser redundante com `plt.tight_layout()` usado posteriormente.\n",
    "Pode ser comentado ou removido se `tight_layout()` for usado consistentemente._\n",
    "\n"
   ]
  },
  {
   "cell_type": "markdown",
   "id": "a8ee0819-66fb-4231-baa7-7de959fceb34",
   "metadata": {},
   "source": [
    "## 6. Análise de Preferências Solicitadas\n",
    "Visualização dos principais insights solicitados sobre as preferências dos estudantes:\n",
    "\n",
    " - Total de respostas por Linguagem de Programação Preferida.\n",
    " - Percentual de preferência por Horário de Estudo.\n",
    " - Formato de Conteúdo Principal Mais Popular."
   ]
  },
  {
   "cell_type": "code",
   "execution_count": null,
   "id": "6e8211ab-a45d-4a68-8dbe-b1a81a43362b",
   "metadata": {},
   "outputs": [],
   "source": [
    "\n",
    "# Insight 1: Total de respostas por Linguagem de Programação Preferida\n",
    "print(\"\\n--- Insight 1: Linguagem de Programação Preferida ---\")\n",
    "linguagem_counts = df_cleaned['linguagem_preferida'].value_counts()\n",
    "print(linguagem_counts)\n",
    "\n",
    "plt.figure()\n",
    "sns.barplot(x=linguagem_counts.index, y=linguagem_counts.values, palette=\"viridis\", hue=linguagem_counts.index, legend=False)\n",
    "plt.title('Total de Alunos por Linguagem de Programação Preferida', fontsize=16)\n",
    "plt.xlabel('Linguagem de Programação', fontsize=14)\n",
    "plt.ylabel('Número de Alunos', fontsize=14)\n",
    "plt.xticks(rotation=45, ha='right')\n",
    "plt.tight_layout() # Adicionado para melhor ajuste\n",
    "plt.show()\n",
    "\n",
    "# Insight 2: Percentual de preferência por Horário de Estudo\n",
    "print(\"\\n--- Insight 2: Horário de Estudo Preferido ---\")\n",
    "horario_counts = df_cleaned['horario_estudo'].value_counts()\n",
    "horario_percentages = df_cleaned['horario_estudo'].value_counts(normalize=True) * 100\n",
    "print(horario_percentages)\n",
    "\n",
    "plt.figure(figsize=(10,8)) # Tamanho específico para gráfico de pizza\n",
    "plt.pie(horario_counts, labels=horario_counts.index, autopct='%1.1f%%', startangle=140, colors=sns.color_palette(\"pastel\"))\n",
    "plt.title('Percentual de Preferência por Horário de Estudo', fontsize=16)\n",
    "plt.axis('equal') # Assegura que o gráfico de pizza seja um círculo.\n",
    "plt.tight_layout() # Adicionado para melhor ajuste\n",
    "plt.show()\n",
    "\n",
    "# Insight 3: Formato de Conteúdo Principal Mais Popular\n",
    "print(\"\\n--- Insight 3: Formato de Conteúdo Principal Preferido ---\")\n",
    "formato_principal_counts = df_cleaned['formato_conteudo_principal'].value_counts()\n",
    "print(formato_principal_counts)\n",
    "if not formato_principal_counts.empty: # Verifica se a série não está vazia\n",
    "    print(f\"O formato de conteúdo principal mais popular é: '{formato_principal_counts.idxmax()}' com {formato_principal_counts.max()} preferências.\")\n",
    "\n",
    "    plt.figure()\n",
    "    sns.barplot(x=formato_principal_counts.index, y=formato_principal_counts.values, palette=\"coolwarm\", hue=formato_principal_counts.index, legend=False)\n",
    "    plt.title('Preferência por Formato de Conteúdo Principal', fontsize=16)\n",
    "    plt.xlabel('Formato de Conteúdo', fontsize=14)\n",
    "    plt.ylabel('Número de Alunos', fontsize=14)\n",
    "    plt.xticks(rotation=45, ha='right')\n",
    "    plt.tight_layout() # Adicionado para melhor ajuste\n",
    "    plt.show()\n",
    "else:\n",
    "    print(\"Não há dados suficientes para determinar o formato de conteúdo principal mais popular.\")"
   ]
  },
  {
   "cell_type": "markdown",
   "id": "1372e0ad-6606-4b26-bf47-b7bef0dfdf67",
   "metadata": {},
   "source": [
    "## 7. Gráficos Adicionais Explorando Outras Colunas\n",
    "Geração de visualizações adicionais para explorar outras dimensões do conjunto de dados, incluindo:\n",
    "\n",
    " - Distribuição da Satisfação com o Curso.\n",
    " - Relação entre Horas de Estudo por Dia e Média Geral.\n",
    " - Contagem de Preferência por Área de Interesse (Top 10).\n",
    " - Percentual de Alunos que Utilizam a Biblioteca.\n",
    " - Distribuição da Média Geral por Semestre (Boxplot)."
   ]
  },
  {
   "cell_type": "code",
   "execution_count": null,
   "id": "0b3a28fc-ef71-4ba1-9d05-9095092f7707",
   "metadata": {},
   "outputs": [],
   "source": [
    "# --- 6. Gráficos Adicionais Explorando Outras Colunas ---\n",
    "print(\"\\n--- Gráficos Adicionais ---\")\n",
    "\n",
    "# Gráfico 1: Distribuição da Satisfação com o Curso\n",
    "if 'satisfacao_curso' in df_cleaned.columns:\n",
    "    print(\"\\nAnalisando 'satisfacao_curso'...\")\n",
    "    plt.figure()\n",
    "    if pd.api.types.is_numeric_dtype(df_cleaned['satisfacao_curso']):\n",
    "        sns.histplot(df_cleaned['satisfacao_curso'].dropna(), kde=True, bins=5) # Adicionado .dropna() para segurança\n",
    "        plt.title('Distribuição da Satisfação com o Curso (1 a 5)', fontsize=16)\n",
    "        plt.xlabel('Nível de Satisfação', fontsize=14)\n",
    "        plt.ylabel('Número de Alunos', fontsize=14)\n",
    "        plt.tight_layout() # Adicionado para melhor ajuste\n",
    "        plt.show()\n",
    "    else:\n",
    "        print(f\"'satisfacao_curso' (tipo: {df_cleaned['satisfacao_curso'].dtype}) não é numérica ou contém valores não convertidos. Verifique a etapa de limpeza.\")\n",
    "else:\n",
    "    print(\"'satisfacao_curso' não encontrada.\")\n",
    "\n",
    "# Gráfico 2: Horas de Estudo por Dia vs. Média Geral\n",
    "if 'horas_estudo_dia' in df_cleaned.columns and 'media_geral' in df_cleaned.columns:\n",
    "    print(\"\\nAnalisando 'horas_estudo_dia' vs 'media_geral'...\")\n",
    "    plt.figure()\n",
    "    if pd.api.types.is_numeric_dtype(df_cleaned['horas_estudo_dia']) and pd.api.types.is_numeric_dtype(df_cleaned['media_geral']):\n",
    "        sns.scatterplot(x='horas_estudo_dia', y='media_geral', data=df_cleaned, hue='satisfacao_curso', palette='coolwarm', alpha=0.7)\n",
    "        plt.title('Horas de Estudo por Dia vs. Média Geral', fontsize=16)\n",
    "        plt.xlabel('Horas de Estudo por Dia', fontsize=14)\n",
    "        plt.ylabel('Média Geral', fontsize=14)\n",
    "        plt.legend(title='Satisfação Curso')\n",
    "        plt.tight_layout() # Adicionado para melhor ajuste\n",
    "        plt.show()\n",
    "    else:\n",
    "        print(f\"'horas_estudo_dia' (tipo: {df_cleaned['horas_estudo_dia'].dtype}) ou 'media_geral' (tipo: {df_cleaned['media_geral'].dtype}) não são numéricas. Verifique a limpeza.\")\n",
    "else:\n",
    "    print(\"'horas_estudo_dia' ou 'media_geral' não encontradas.\")\n",
    "\n",
    "\n",
    "# Gráfico 3: Contagem de Preferência por Área de Interesse\n",
    "if 'area_interesse' in df_cleaned.columns:\n",
    "    print(\"\\nAnalisando 'area_interesse'...\")\n",
    "    area_interesse_counts = df_cleaned['area_interesse'].value_counts().nlargest(10) # Top 10 para clareza\n",
    "    if not area_interesse_counts.empty:\n",
    "        plt.figure()\n",
    "        sns.barplot(x=area_interesse_counts.index, y=area_interesse_counts.values, palette=\"cubehelix\", hue=area_interesse_counts.index, legend=False)\n",
    "        plt.title('Top 10 Áreas de Interesse dos Alunos', fontsize=16)\n",
    "        plt.xlabel('Área de Interesse', fontsize=14)\n",
    "        plt.ylabel('Número de Alunos', fontsize=14)\n",
    "        plt.xticks(rotation=45, ha='right')\n",
    "        plt.tight_layout() # Adicionado para melhor ajuste\n",
    "        plt.show()\n",
    "    else:\n",
    "        print(\"Não há dados para exibir sobre áreas de interesse.\")\n",
    "else:\n",
    "    print(\"'area_interesse' não encontrada.\")\n",
    "\n",
    "# Gráfico 4: Uso da Biblioteca\n",
    "if 'usa_biblioteca' in df_cleaned.columns:\n",
    "    print(\"\\nAnalisando 'usa_biblioteca'...\")\n",
    "    # Assegurar que a coluna seja tratada como categoria para value_counts\n",
    "    # A conversão para string é uma forma robusta se o tipo booleano não for consistente.\n",
    "    try:\n",
    "        # Tenta converter para string e depois para booleano mapeado para melhor contagem\n",
    "        map_bool_str = {True: 'Sim (True)', False: 'Não (False)', 'True': 'Sim (True)', 'False': 'Não (False)', 'Sim':'Sim (True)', 'Não':'Não (False)'}\n",
    "        # O padrão é 'Não Informado' se o mapeamento falhar para algum valor inesperado\n",
    "        processed_usa_biblioteca = df_cleaned['usa_biblioteca'].map(lambda x: map_bool_str.get(x, map_bool_str.get(str(x), 'Não Informado')))\n",
    "        usa_biblioteca_counts = processed_usa_biblioteca.value_counts()\n",
    "\n",
    "        if not usa_biblioteca_counts.empty:\n",
    "            plt.figure(figsize=(8,6))\n",
    "            plt.pie(usa_biblioteca_counts, labels=usa_biblioteca_counts.index, autopct='%1.1f%%', startangle=90, colors=['skyblue', 'lightcoral', 'lightgreen'])\n",
    "            plt.title('Alunos que Utilizam a Biblioteca', fontsize=16)\n",
    "            plt.axis('equal')\n",
    "            plt.tight_layout() # Adicionado para melhor ajuste\n",
    "            plt.show()\n",
    "        else:\n",
    "            print(\"Não há dados para exibir sobre o uso da biblioteca.\")\n",
    "    except Exception as e:\n",
    "        print(f\"Erro ao processar 'usa_biblioteca': {e}. Tipo da coluna: {df_cleaned['usa_biblioteca'].dtype}\")\n",
    "else:\n",
    "    print(\"'usa_biblioteca' não encontrada.\")\n",
    "\n",
    "\n",
    "# Gráfico 5: Relação entre Semestre e Média Geral (Boxplot)\n",
    "if 'semestre' in df_cleaned.columns and 'media_geral' in df_cleaned.columns:\n",
    "    print(\"\\nAnalisando 'semestre' vs 'media_geral'...\")\n",
    "    plt.figure(figsize=(14, 8))\n",
    "    \n",
    "    # Assegura que 'semestre' seja numérico para ordenação correta e depois convertido para string/categoria para o boxplot\n",
    "    # Tenta converter 'semestre' para numérico, tratando erros\n",
    "    df_cleaned['semestre_numeric'] = pd.to_numeric(df_cleaned['semestre'], errors='coerce')\n",
    "    df_temp = df_cleaned.dropna(subset=['semestre_numeric', 'media_geral']) # Remove NaNs criados por 'coerce' ou já existentes\n",
    "    \n",
    "    if not df_temp.empty:\n",
    "        # Ordena os valores únicos de semestre numericamente\n",
    "        semestre_order = sorted(df_temp['semestre_numeric'].unique())\n",
    "        # Converte para string para o boxplot usar como categorias ordenadas\n",
    "        semestre_order_str = [str(int(s)) for s in semestre_order]\n",
    "        \n",
    "        df_temp['semestre_cat_ordered'] = pd.Categorical(df_temp['semestre_numeric'].astype(int).astype(str), categories=semestre_order_str, ordered=True)\n",
    "\n",
    "        sns.boxplot(x='semestre_cat_ordered', y='media_geral', data=df_temp, palette=\"pastel\") # Usando a coluna ordenada\n",
    "        plt.title('Distribuição da Média Geral por Semestre', fontsize=16)\n",
    "        plt.xlabel('Semestre', fontsize=14)\n",
    "        plt.ylabel('Média Geral', fontsize=14)\n",
    "        plt.xticks(rotation=45, ha='right')\n",
    "        plt.tight_layout() # Adicionado para melhor ajuste\n",
    "        plt.show()\n",
    "    else:\n",
    "        print(\"Não há dados numéricos válidos suficientes em 'semestre' ou 'media_geral' para gerar o boxplot.\")\n",
    "else:\n",
    "    print(\"'semestre' ou 'media_geral' não encontradas.\")"
   ]
  },
  {
   "cell_type": "markdown",
   "id": "aa5cb707-e8fe-448a-a58a-6cb1eb8d124d",
   "metadata": {},
   "source": [
    "# 8. Conclusão da Análise\n",
    "Este bloco finaliza a execução da análise exploratória de dados.\n",
    "\n"
   ]
  },
  {
   "cell_type": "code",
   "execution_count": null,
   "id": "b7d58776-ac62-4b1d-be95-12c2a4c9c73a",
   "metadata": {},
   "outputs": [],
   "source": [
    "print(\"\\n--- Fim da Análise ---\")"
   ]
  },
  {
   "cell_type": "markdown",
   "id": "ada67a18-f03e-47d9-8f14-f09e7204f1c8",
   "metadata": {},
   "source": [
    "# Conclusão Resumida Sobre o Processo de Análise do Script\n",
    "Ao processar e estruturar o script em formato de notebook, observei um pipeline de análise de dados eficaz e bem definido.\n",
    "\n",
    "O script demonstrou um fluxo de trabalho lógico, desde a importação de bibliotecas e carregamento dos dados, passando por uma inspeção inicial completa, até uma etapa de limpeza e preparação de dados robusta. Esta limpeza destacou-se pela atenção aos detalhes, com tratamento diferenciado para valores ausentes (NaN) conforme o tipo de dado e conversões de tipo cuidadosas, como a de colunas para booleano com tratamento de exceções.\n",
    "\n",
    "A abordagem analítica e de visualização foi direta e apropriada, utilizando gráficos como barras, pizza, histogramas, scatterplots e boxplots para extrair tanto os insights solicitados sobre preferências estudantis quanto para realizar explorações adicionais em outras variáveis. A inclusão de verificações de robustez, como checar a existência de colunas antes de usá-las, também foi uma prática positiva observada.\n",
    "\n",
    "Em suma, a análise deste script reforçou a compreensão de um processo completo e bem executado para transformar dados brutos em insights visuais, enfrentando de forma competente os desafios comuns na preparação e exploração de dados.\n",
    "\n",
    "\n",
    "\n",
    "\n",
    "\n",
    "\n"
   ]
  }
 ],
 "metadata": {
  "kernelspec": {
   "display_name": "Python 3 (ipykernel)",
   "language": "python",
   "name": "python3"
  },
  "language_info": {
   "codemirror_mode": {
    "name": "ipython",
    "version": 3
   },
   "file_extension": ".py",
   "mimetype": "text/x-python",
   "name": "python",
   "nbconvert_exporter": "python",
   "pygments_lexer": "ipython3",
   "version": "3.13.2"
  }
 },
 "nbformat": 4,
 "nbformat_minor": 5
}
